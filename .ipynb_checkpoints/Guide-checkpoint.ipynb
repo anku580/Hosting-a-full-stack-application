{
 "cells": [
  {
   "cell_type": "markdown",
   "metadata": {
    "editable": true
   },
   "source": [
    "## Using this workspace \n",
    "- Use the set up workspace button in order to install node_modules or do it yourself in the terminal\n",
    "- install the aws cli like shown in this [link](https://docs.aws.amazon.com/cli/latest/userguide/install-cliv2-linux.html). You will also have to install the elastic beanstalk cli like [shown here](https://docs.aws.amazon.com/elasticbeanstalk/latest/dg/eb-cli3-install.html)\n",
    "- Follow the instructions to complete the exercise\n",
    "\n",
    "\n"
   ]
  },
  {
   "cell_type": "markdown",
   "metadata": {
    "editable": true,
    "ulab": {
     "buttons": {
      "ulab-button-b45c859f": {
       "bashCommand": "source setup_node.sh && cd reactnd-contacts-complete && npm install && cd ../reactnd-contacts-server && npm install",
       "filesToOpen": [],
       "isPreviewButton": false,
       "runInBackground": false,
       "style": "primary",
       "text": "SET UP WORKSPACE",
       "toggleOffText": "HIDE SOLUTION",
       "toggleOnText": "SHOW SOLUTION"
      }
     }
    }
   },
   "source": [
    "<button id=\"ulab-button-b45c859f\" class=\"ulab-btn--primary\"></button>"
   ]
  }
 ],
 "metadata": {
  "kernelspec": {
   "display_name": "Python 3",
   "language": "python",
   "name": "python3"
  },
  "language_info": {
   "codemirror_mode": {
    "name": "ipython",
    "version": 3
   },
   "file_extension": ".py",
   "mimetype": "text/x-python",
   "name": "python",
   "nbconvert_exporter": "python",
   "pygments_lexer": "ipython3",
   "version": "3.6.3"
  },
  "ulab_nb_type": "guided"
 },
 "nbformat": 4,
 "nbformat_minor": 4
}
